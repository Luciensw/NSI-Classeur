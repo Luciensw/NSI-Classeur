{
 "cells": [
  {
   "attachments": {},
   "cell_type": "markdown",
   "metadata": {},
   "source": [
    "## 1. Quelles sont les anomalies dans le schéma précédent ?"
   ]
  },
  {
   "attachments": {},
   "cell_type": "markdown",
   "metadata": {},
   "source": [
    "Les types de données ne sont pas définis pour chaque attribut."
   ]
  },
  {
   "attachments": {},
   "cell_type": "markdown",
   "metadata": {},
   "source": [
    "## 2. Clés et contraintes"
   ]
  },
  {
   "attachments": {},
   "cell_type": "markdown",
   "metadata": {},
   "source": [
    "a. Proposer une clé primaire pour la table Emprunt.  \n",
    "Emprunt_ID"
   ]
  },
  {
   "attachments": {},
   "cell_type": "markdown",
   "metadata": {},
   "source": [
    "b. Expliquer l’intérêt de la requête suivante :  \n",
    "ALTER TABLE Emprunt  \n",
    "ADD CONSTRAINT CHK_Emprunt_Date CHECK (DateEmprunt <= DateRetourReel)  \n",
    "Elle permet de vérifier que la date d'emprunt est bien plus petite ou égale à la date de retour réel."
   ]
  },
  {
   "attachments": {},
   "cell_type": "markdown",
   "metadata": {},
   "source": [
    "c. Quelles sont les conséquences de la requête suivante ?  \n",
    "ALTER TABLE Emprunt  \n",
    "CONSTRAINT FK_Emprunt_Abonne  \n",
    "FOREIGN KEY(Abonne_ID) REFERENCES Abonne(Abonne_ID)  \n",
    "Abonne_ID dans le tableau Emprunt renverra à Abonne_ID du tableau Abonne.\n"
   ]
  },
  {
   "attachments": {},
   "cell_type": "markdown",
   "metadata": {},
   "source": [
    "d. Pourquoi l’ajout de la contrainte suivante serait-elle une mauvaise idée ?  \n",
    "ALTER TABLE Emprunt  \n",
    "MODIFY DateRetourReel DATE NOT NULL;  \n",
    "Cet ajout serait une mauvaise idée car un livre peut ne pas être encore rendu et ne pas encore avoir de date de retour réel."
   ]
  },
  {
   "attachments": {},
   "cell_type": "markdown",
   "metadata": {},
   "source": [
    "## 3. Exprimer les requêtes suivantes en SQL."
   ]
  },
  {
   "attachments": {},
   "cell_type": "markdown",
   "metadata": {},
   "source": [
    "### a. Quels sont les noms et prénoms des abonnés habitant Bayonne ?  \n",
    "SELECT Nom, Prenom FROM Abonne WHERE Ville = \"Bayonne\"  \n",
    "### b. Quels sont les noms et prénoms des abonnés habitant dans les Pyrénées Atlantiques ?  \n",
    "SELECT Nom, Prenom FROM Abonne WHERE Left(CodePostal, 2) = \"64\"  \n",
    "### c. Quels sont les identifiants des abonnés ayant rendu un livre en retard ?  \n",
    "SELECT Emprunt.Abonne_ID FROM Emprunt JOIN Abonne ON Emprunt.Abonne_ID = Abonne.Abonne_ID WHERE DateRetourPrevu < DateRetourReel GROUP BY Emprunt.Abonne_ID  \n",
    "### d. Quels sont les noms des abonnés ayant rendu un livre en retard ?  \n",
    "SELECT Abonne.Nom FROM Emprunt JOIN Abonne ON Emprunt.Abonne_ID = Abonne.Abonne_ID WHERE DateRetourPrevu < DateRetourReel GROUP BY Abonne.Nom  \n",
    "### e. Quels sont les titres des livres actuellement empruntés ?  \n",
    "SELECT Livre.Titre FROM Emprunt JOIN Livre ON Emprunt.Livre_ID = Livre.Livre_ID WHERE DateRetourReel = NULL  \n",
    "### f. Quels sont les noms des gens ayant emprunté le livre Papillon ?  \n",
    "SELECT Abonne.Nom FROM Emprunt JOIN Livre ON Emprunt.Livre_ID = Livre.Livre_ID JOIN Abonne ON Emprunt.Abonne_ID = Abonne.Abonne_ID WHERE Livre.Titre = \"Papillon\"\n",
    "### g. Quels sont les abonnés n’ayant jamais emprunté de livres ?  \n",
    "### h. Quelles sont les noms des personnes n'ayant jamais rendu de livre en retard ?  \n",
    "### i. Quelles sont les noms des personnes ayant toujours rendu en retard les livres qu'elles ont empruntés ?  \n",
    "### j. Quels sont les noms et prénoms des bayonnais ayant rendu un livre en retard ?  \n",
    "### k. Quel est l’abonné le plus âgé ?  \n",
    "SELECT Nom, Prenom FROM\n",
    "### l. Quel est le retard maximal des abonnés ayant rendu un livre en retard ?  \n",
    "### m. Quel est l’identifiant de l’abonné ayant rendu un livre avec le plus de retard ?  \n",
    "### n. Quel est le retard moyen ?  \n",
    "### o. Quels sont les noms des abonnés commençant par les lettres A à H ?  \n",
    "### p. Combien de fois a été emprunté le livre Papillon ?  "
   ]
  },
  {
   "attachments": {},
   "cell_type": "markdown",
   "metadata": {},
   "source": [
    "## 4. Modification de la table"
   ]
  },
  {
   "cell_type": "markdown",
   "metadata": {},
   "source": []
  },
  {
   "attachments": {},
   "cell_type": "markdown",
   "metadata": {},
   "source": [
    "## 5. Recherche d’anomalies"
   ]
  },
  {
   "cell_type": "markdown",
   "metadata": {},
   "source": []
  }
 ],
 "metadata": {
  "kernelspec": {
   "display_name": "Python 3",
   "language": "python",
   "name": "python3"
  },
  "language_info": {
   "codemirror_mode": {
    "name": "ipython",
    "version": 3
   },
   "file_extension": ".py",
   "mimetype": "text/x-python",
   "name": "python",
   "nbconvert_exporter": "python",
   "pygments_lexer": "ipython3",
   "version": "3.8.13"
  },
  "orig_nbformat": 4,
  "vscode": {
   "interpreter": {
    "hash": "9ac03a0a6051494cc606d484d27d20fce22fb7b4d169f583271e11d5ba46a56e"
   }
  }
 },
 "nbformat": 4,
 "nbformat_minor": 2
}
